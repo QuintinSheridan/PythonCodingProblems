{
 "cells": [
  {
   "cell_type": "markdown",
   "metadata": {},
   "source": [
    "# Problem 132(easy)\n",
    "\n",
    "### Design and implement a HitCounter class that keeps track of requests (or hits). It should support the following operations:\n",
    "\n",
    "### record(timestamp): records a hit that happened at timestamp\n",
    "### total(): returns the total number of hits recorded\n",
    "### range(lower, upper): returns the number of hits that occurred between timestamps lower and upper (inclusive)\n",
    "### Follow-up: What if our system has limited memory?\n",
    "\n",
    "###  If the system has  limited memory, you would need another data structure that kept tra of \n",
    "### ['records_i]"
   ]
  },
  {
   "cell_type": "code",
   "execution_count": 7,
   "metadata": {},
   "outputs": [],
   "source": [
    "from time import time"
   ]
  },
  {
   "cell_type": "code",
   "execution_count": 56,
   "metadata": {},
   "outputs": [],
   "source": [
    "class HitCounter:\n",
    "    def __init__(self):\n",
    "        self.records = []\n",
    "        \n",
    "    def record(self, timestamp):\n",
    "        self.records.append(timestamp)\n",
    "        \n",
    "    def total(self):\n",
    "        return len(self.records)\n",
    "    \n",
    "    def range(self, lower, upper):\n",
    "        self.records.sort()\n",
    "        indicies_not_found = True\n",
    "        \n",
    "        upper_index = None\n",
    "        lower_index = None\n",
    "        \n",
    "        while(not lower_index) and (not upper_index):\n",
    "            # check if min is greater than max record \n",
    "            if (self.records[-1]<=lower) or (self.records[0] >= upper) or (upper<=lower):\n",
    "                return 0\n",
    "       \n",
    "            # check if max is greater than last record so we dont have to check it all\n",
    "            if self.records[-1] <= upper:\n",
    "                upper_index = len(self.records)-1\n",
    "            \n",
    "                \n",
    "            for i in range(len(self.records)):\n",
    "                if (self.records[i] >= lower) and (not lower_index):\n",
    "                    lower_index = i\n",
    "                    if upper_index:\n",
    "                        break\n",
    "                if self.records[i] >= upper:\n",
    "                    upper_index = i\n",
    "                    break\n",
    "\n",
    "        hit_counts = upper_index - (lower_index+1)\n",
    "                \n",
    "        return hit_counts\n",
    "           "
   ]
  },
  {
   "cell_type": "code",
   "execution_count": 57,
   "metadata": {},
   "outputs": [
    {
     "name": "stdout",
     "output_type": "stream",
     "text": [
      "[]\n"
     ]
    }
   ],
   "source": [
    "my_hit_counter =  HitCounter()\n",
    "print(my_hit_counter.records)"
   ]
  },
  {
   "cell_type": "code",
   "execution_count": 58,
   "metadata": {},
   "outputs": [],
   "source": [
    "for i in range(10):\n",
    "    my_hit_counter.record(time())"
   ]
  },
  {
   "cell_type": "code",
   "execution_count": 59,
   "metadata": {},
   "outputs": [
    {
     "name": "stdout",
     "output_type": "stream",
     "text": [
      "records:  [1585264734.1372864, 1585264734.1372907, 1585264734.1372933, 1585264734.137295, 1585264734.1372972, 1585264734.1372995, 1585264734.1373012, 1585264734.1373034, 1585264734.137305, 1585264734.1373074]\n",
      "total: 10\n"
     ]
    }
   ],
   "source": [
    "print('records: ', my_hit_counter.records)\n",
    "\n",
    "print(f'total: {my_hit_counter.total()}')"
   ]
  },
  {
   "cell_type": "code",
   "execution_count": 61,
   "metadata": {},
   "outputs": [
    {
     "data": {
      "text/plain": [
       "6"
      ]
     },
     "execution_count": 61,
     "metadata": {},
     "output_type": "execute_result"
    }
   ],
   "source": [
    "hit_counts = my_hit_counter.range(1585264734.1372907, 1585264734.137305)\n",
    "hit_counts "
   ]
  },
  {
   "cell_type": "code",
   "execution_count": null,
   "metadata": {},
   "outputs": [],
   "source": []
  }
 ],
 "metadata": {
  "kernelspec": {
   "display_name": "Python 3",
   "language": "python",
   "name": "python3"
  },
  "language_info": {
   "codemirror_mode": {
    "name": "ipython",
    "version": 3
   },
   "file_extension": ".py",
   "mimetype": "text/x-python",
   "name": "python",
   "nbconvert_exporter": "python",
   "pygments_lexer": "ipython3",
   "version": "3.6.8"
  }
 },
 "nbformat": 4,
 "nbformat_minor": 2
}
