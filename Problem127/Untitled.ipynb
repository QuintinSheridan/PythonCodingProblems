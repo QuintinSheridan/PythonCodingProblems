{
 "cells": [
  {
   "cell_type": "markdown",
   "metadata": {},
   "source": [
    "# Problem127(easy)\n",
    "\n",
    "### Let's represent an integer in a linked list format by having each node represent a digit in the number. The nodes make up the number in reversed order.\n",
    "\n",
    "### For example, the following linked list:\n",
    "\n",
    "### 1 -> 2 -> 3 -> 4 -> 5\n",
    "### is the number 54321.\n",
    "\n",
    "### Given two linked lists in this format, return their sum in the same linked list format.\n",
    "\n",
    "### For example, given\n",
    "\n",
    "### 9 -> 9\n",
    "### 5 -> 2\n",
    "### return 124 (99 + 25) as:\n",
    "\n",
    "### 4 -> 2 -> 1"
   ]
  },
  {
   "cell_type": "code",
   "execution_count": 18,
   "metadata": {},
   "outputs": [],
   "source": [
    "class Node:\n",
    "    def __init__(self, value, tail=None, head=None):\n",
    "        self.value=value\n",
    "        if head:\n",
    "            self.head=head\n",
    "        else:\n",
    "            self.head=None\n",
    "            \n",
    "        if tail:\n",
    "            self.tail=tail\n",
    "        else:\n",
    "            self.tail=None\n",
    "            \n",
    "class LinkedList:\n",
    "    def __init__(self, tail_end=None):\n",
    "        self.tail_end=tail_end\n",
    "    \n",
    "    def add_to_head(self, new_node):\n",
    "        # if no nodes yet\n",
    "        if not self.tail_end:\n",
    "            self.tail_end = new_node\n",
    "        # if nodes, add to final head\n",
    "        else:\n",
    "            node=self.tail_end\n",
    "            while(node.head):\n",
    "                node = node.head\n",
    "            node.head = new_node\n",
    "    \n",
    "            \n",
    "def build_linked_list(values):\n",
    "    # set head node\n",
    "    tail_end=Node(values[0])\n",
    "    old_head = tail_end\n",
    "    my_linked_list = LinkedList(tail_end)\n",
    "    \n",
    "    for i in range(1, len(values)):\n",
    "        new_node = Node(values[i], old_head)\n",
    "        my_linked_list.add_to_head(new_node)\n",
    "        \n",
    "    return my_linked_list\n",
    "        \n",
    "    \n",
    "    \n",
    "def traverse_in_order(my_linked_list):\n",
    "    value_list = []\n",
    "    tail = my_linked_list.tail_end\n",
    "    \n",
    "    while tail:\n",
    "        value_list.append(tail.value)\n",
    "        tail = tail.head\n",
    "        \n",
    "    return value_list "
   ]
  },
  {
   "cell_type": "code",
   "execution_count": 19,
   "metadata": {},
   "outputs": [
    {
     "name": "stdout",
     "output_type": "stream",
     "text": [
      "[1, 2, 3, 4, 5]\n"
     ]
    }
   ],
   "source": [
    "values = [1,2,3,4,5]\n",
    "my_linked_list = build_linked_list(values)\n",
    "values_list = traverse_in_order(my_linked_list)\n",
    "print(values_list)"
   ]
  },
  {
   "cell_type": "code",
   "execution_count": 25,
   "metadata": {},
   "outputs": [],
   "source": [
    "def list_to_num(my_list):\n",
    "    my_list.reverse()\n",
    "    num_string = ''\n",
    "    for num in my_list:\n",
    "        num_string += str(num)\n",
    "        \n",
    "    return int(num_string)"
   ]
  },
  {
   "cell_type": "code",
   "execution_count": 26,
   "metadata": {},
   "outputs": [
    {
     "data": {
      "text/plain": [
       "54321"
      ]
     },
     "execution_count": 26,
     "metadata": {},
     "output_type": "execute_result"
    }
   ],
   "source": [
    "list_to_num([1,2,3,4,5])"
   ]
  },
  {
   "cell_type": "code",
   "execution_count": 32,
   "metadata": {},
   "outputs": [],
   "source": [
    "def add_lists(list1, list2):\n",
    "    vals1 = traverse_in_order(list1)\n",
    "    num1 = list_to_num(vals1) \n",
    "    \n",
    "    vals2 = traverse_in_order(list2)\n",
    "    num2 = list_to_num(vals2)\n",
    "    \n",
    "    sum_val = num1 + num2\n",
    "    \n",
    "    vals3 = []\n",
    "    for char in str(sum_val):\n",
    "        vals3.append(int(char))\n",
    "    \n",
    "    vals3.reverse()\n",
    "    sum_linked_list = build_linked_list(vals3)\n",
    "    \n",
    "    return sum_linked_list\n",
    "        \n",
    "    \n",
    "    "
   ]
  },
  {
   "cell_type": "code",
   "execution_count": 33,
   "metadata": {},
   "outputs": [
    {
     "data": {
      "text/plain": [
       "[4, 2, 1]"
      ]
     },
     "execution_count": 33,
     "metadata": {},
     "output_type": "execute_result"
    }
   ],
   "source": [
    "l1 = build_linked_list([9,9])\n",
    "l2 = build_linked_list([5,2])\n",
    "\n",
    "l3 = add_lists(l1, l2)\n",
    "\n",
    "\n",
    "traverse_in_order(l3)\n"
   ]
  },
  {
   "cell_type": "code",
   "execution_count": null,
   "metadata": {},
   "outputs": [],
   "source": []
  }
 ],
 "metadata": {
  "kernelspec": {
   "display_name": "Python 3",
   "language": "python",
   "name": "python3"
  },
  "language_info": {
   "codemirror_mode": {
    "name": "ipython",
    "version": 3
   },
   "file_extension": ".py",
   "mimetype": "text/x-python",
   "name": "python",
   "nbconvert_exporter": "python",
   "pygments_lexer": "ipython3",
   "version": "3.6.8"
  }
 },
 "nbformat": 4,
 "nbformat_minor": 2
}
