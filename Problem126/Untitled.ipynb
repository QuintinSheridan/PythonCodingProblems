{
 "cells": [
  {
   "cell_type": "markdown",
   "metadata": {},
   "source": [
    "# This problem was asked by Facebook.\n",
    "\n",
    "## Write a function that rotates a list by k elements. For example, [1, 2, 3, 4, 5, 6] rotated by two becomes [3, 4, 5, 6, 1, 2]. Try solving this without creating a copy of the list. How many swap or move operations do you need?\n",
    "\n",
    "## If we use appending, this takes k appends + k pops which is O(k)\n",
    "\n",
    "## If we use swaps, this takes (n-k)swaps which is O(n-k)"
   ]
  },
  {
   "cell_type": "code",
   "execution_count": 9,
   "metadata": {},
   "outputs": [],
   "source": [
    "def rotate_list(my_list, k):\n",
    "    '''Function that rotates a list by k elements\n",
    "    my_list ([int]): list of integers\n",
    "    k (int): order of rotation\n",
    "    '''\n",
    "    for i in range(k):\n",
    "        my_list.append(my_list[0])\n",
    "        my_list.pop(0)\n",
    "        \n",
    "    return my_list"
   ]
  },
  {
   "cell_type": "code",
   "execution_count": 8,
   "metadata": {},
   "outputs": [
    {
     "data": {
      "text/plain": [
       "[3, 4, 5, 6, 1, 2]"
      ]
     },
     "execution_count": 8,
     "metadata": {},
     "output_type": "execute_result"
    }
   ],
   "source": [
    "# test\n",
    "my_list = [1, 2, 3, 4, 5, 6]\n",
    "rotated_list = rotate_list(my_list, 2)\n",
    "rotated_list\n",
    "\n"
   ]
  },
  {
   "cell_type": "code",
   "execution_count": 6,
   "metadata": {},
   "outputs": [],
   "source": [
    "def swap_list_elements(my_list, index_1, index_2):\n",
    "    val1 = my_list[index_1]\n",
    "    val2 = my_list[index_2]\n",
    "    \n",
    "    my_list[index_1] = val2\n",
    "    my_list[index_2] = val1"
   ]
  },
  {
   "cell_type": "code",
   "execution_count": 20,
   "metadata": {},
   "outputs": [],
   "source": [
    "def rotate_list_in_place(my_list, k):\n",
    "    for i in range(len(my_list)-(k)):\n",
    "        print('i: ', i)\n",
    "        swap_list_elements(my_list, i, k+i)\n",
    "        print(my_list)\n",
    "        \n",
    "    return my_list        "
   ]
  },
  {
   "cell_type": "code",
   "execution_count": 22,
   "metadata": {},
   "outputs": [
    {
     "name": "stdout",
     "output_type": "stream",
     "text": [
      "i:  0\n",
      "[3, 2, 1, 4, 5, 6]\n",
      "i:  1\n",
      "[3, 4, 1, 2, 5, 6]\n",
      "i:  2\n",
      "[3, 4, 5, 2, 1, 6]\n",
      "i:  3\n",
      "[3, 4, 5, 6, 1, 2]\n"
     ]
    },
    {
     "data": {
      "text/plain": [
       "[3, 4, 5, 6, 1, 2]"
      ]
     },
     "execution_count": 22,
     "metadata": {},
     "output_type": "execute_result"
    }
   ],
   "source": [
    "my_list = [1, 2, 3, 4, 5, 6]\n",
    "rotated_list = rotate_list_in_place(my_list, 2)\n",
    "rotated_list"
   ]
  },
  {
   "cell_type": "code",
   "execution_count": null,
   "metadata": {},
   "outputs": [],
   "source": []
  }
 ],
 "metadata": {
  "kernelspec": {
   "display_name": "Python 3",
   "language": "python",
   "name": "python3"
  },
  "language_info": {
   "codemirror_mode": {
    "name": "ipython",
    "version": 3
   },
   "file_extension": ".py",
   "mimetype": "text/x-python",
   "name": "python",
   "nbconvert_exporter": "python",
   "pygments_lexer": "ipython3",
   "version": "3.6.8"
  }
 },
 "nbformat": 4,
 "nbformat_minor": 2
}
