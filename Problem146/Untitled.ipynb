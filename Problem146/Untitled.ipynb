{
 "cells": [
  {
   "cell_type": "code",
   "execution_count": 1,
   "metadata": {},
   "outputs": [],
   "source": [
    "# Good morning!\n",
    "\n",
    "# Here's a solution to yesterday's problem.\n",
    "\n",
    "# This is your coding interview problem for today.\n",
    "\n",
    "# This question was asked by BufferBox.\n",
    "\n",
    "# Given a binary tree where all nodes are either 0 or 1, prune the tree so that subtrees containing all 0s are removed.\n",
    "\n",
    "# For example, given the following tree:\n",
    "\n",
    "#    0\n",
    "#   / \\\n",
    "#  1   0\n",
    "#     / \\\n",
    "#    1   0\n",
    "#   / \\\n",
    "#  0   0\n",
    "# should be pruned to:\n",
    "\n",
    "#    0\n",
    "#   / \\\n",
    "#  1   0\n",
    "#     /\n",
    "#    1\n",
    "# We do not remove the tree at the root or its left child because it still has a 1 as a descendant.\n",
    "\n",
    "# We will be sending the solution tomorrow, along with tomorrow's question. As always, feel free to shoot us an email if there's anything we can help with.\n",
    "\n",
    "# Have a great day!\n",
    "\n"
   ]
  },
  {
   "cell_type": "code",
   "execution_count": 2,
   "metadata": {},
   "outputs": [],
   "source": [
    "from copy import deepcopy"
   ]
  },
  {
   "cell_type": "code",
   "execution_count": 3,
   "metadata": {},
   "outputs": [],
   "source": [
    "class Node():\n",
    "    def __init__(self, value):\n",
    "        self.value = value\n",
    "        self.left=None\n",
    "        self.right=None\n",
    "        \n",
    "    def get_value(self):\n",
    "        return self.value"
   ]
  },
  {
   "cell_type": "code",
   "execution_count": 4,
   "metadata": {},
   "outputs": [],
   "source": [
    "nodes_location_dict = {'root':{'value':0, 'left':'node2', 'right':'node3'}, \n",
    "              'node2':{'value':1, 'left':None, 'right':None}, \n",
    "              'node3':{'value':0, 'left':'node4', 'right':'node5'},\n",
    "              'node4':{'value':1, 'left':'node6', 'right':'node7'},\n",
    "              'node5':{'value':0, 'left':None, 'right':None},\n",
    "              'node6':{'value':0, 'left':None, 'right':None},\n",
    "              'node7':{'value':0, 'left':None, 'right':None}}"
   ]
  },
  {
   "cell_type": "code",
   "execution_count": 5,
   "metadata": {},
   "outputs": [],
   "source": [
    "class Binary_Tree():\n",
    "    def __init__(self, nodes_location_dict, depth):\n",
    "        nodes_dict = {}\n",
    "        # create all nnodes and a node dict for ref\n",
    "        for node in nodes_location_dict:\n",
    "            dir_dict = nodes_location_dict[node]\n",
    "            nodes_dict[node] = Node(dir_dict['value'])\n",
    "        \n",
    "        # set up parent child relations\n",
    "        for node in nodes_location_dict:\n",
    "            dir_dict = nodes_location_dict[node]\n",
    "            if  dir_dict['left']:\n",
    "                nodes_dict[node].left = nodes_dict[dir_dict['left']]\n",
    "            if dir_dict['right']:\n",
    "                nodes_dict[node].right = nodes_dict[dir_dict['right']]\n",
    "            \n",
    "        self.root = nodes_dict['root']\n",
    "        self.depth=depth\n",
    "        \n",
    "    def print_tree(self):\n",
    "        node=self.root\n",
    "        levels_dict = {0:[self.root]}\n",
    "        level = 0\n",
    "        if self.root.left or self.root.right:\n",
    "            more_levels = True\n",
    "        # traverse tree and build levels dict\n",
    "        while more_levels:\n",
    "            level_array = []\n",
    "            for node in levels_dict[level]:\n",
    "                if node.left:\n",
    "                    level_array.append(node.left)\n",
    "                if node.right:\n",
    "                    level_array.append(node.right)\n",
    "            level+=1\n",
    "            if len(level_array) == 0:\n",
    "                more_levels = False\n",
    "\n",
    "            else:\n",
    "                level+=1\n",
    "                levels_dict[level]=level_array\n",
    "        for key in levels_dict:\n",
    "            print(f'key: {key}')\n",
    "            out = []\n",
    "            for node in levels_dict[key]:\n",
    "                out.append(node.value)\n",
    "            print(out)\n",
    "        #print(levels_dict)"
   ]
  },
  {
   "cell_type": "code",
   "execution_count": 6,
   "metadata": {},
   "outputs": [],
   "source": [
    "my_tree = Binary_Tree(nodes_location_dict, 4)"
   ]
  },
  {
   "cell_type": "code",
   "execution_count": 7,
   "metadata": {},
   "outputs": [
    {
     "name": "stdout",
     "output_type": "stream",
     "text": [
      "key: 0\n",
      "[0]\n",
      "key: 2\n",
      "[1, 0]\n",
      "key: 4\n",
      "[1, 0]\n",
      "key: 6\n",
      "[0, 0]\n"
     ]
    }
   ],
   "source": [
    "my_tree.print_tree()"
   ]
  },
  {
   "cell_type": "code",
   "execution_count": 8,
   "metadata": {},
   "outputs": [],
   "source": [
    "def prune(root):\n",
    "    if root is None:\n",
    "        return root\n",
    "\n",
    "    root.left, root.right = prune(root.left), prune(root.right)\n",
    "\n",
    "    if root.left is None and root.right is None and root.value == 0:\n",
    "        return None\n",
    "\n",
    "    return root"
   ]
  },
  {
   "cell_type": "code",
   "execution_count": 9,
   "metadata": {},
   "outputs": [
    {
     "data": {
      "text/plain": [
       "<__main__.Node at 0x7f5b680a8400>"
      ]
     },
     "execution_count": 9,
     "metadata": {},
     "output_type": "execute_result"
    }
   ],
   "source": [
    "prune(my_tree.root)"
   ]
  },
  {
   "cell_type": "code",
   "execution_count": 10,
   "metadata": {},
   "outputs": [
    {
     "name": "stdout",
     "output_type": "stream",
     "text": [
      "key: 0\n",
      "[0]\n",
      "key: 2\n",
      "[1, 0]\n",
      "key: 4\n",
      "[1]\n"
     ]
    }
   ],
   "source": [
    "my_tree.print_tree()"
   ]
  },
  {
   "cell_type": "code",
   "execution_count": 11,
   "metadata": {},
   "outputs": [
    {
     "data": {
      "text/plain": [
       "30000.0"
      ]
     },
     "execution_count": 11,
     "metadata": {},
     "output_type": "execute_result"
    }
   ],
   "source": [
    "1200/0.04\n"
   ]
  },
  {
   "cell_type": "code",
   "execution_count": null,
   "metadata": {},
   "outputs": [],
   "source": []
  }
 ],
 "metadata": {
  "kernelspec": {
   "display_name": "Python 3",
   "language": "python",
   "name": "python3"
  },
  "language_info": {
   "codemirror_mode": {
    "name": "ipython",
    "version": 3
   },
   "file_extension": ".py",
   "mimetype": "text/x-python",
   "name": "python",
   "nbconvert_exporter": "python",
   "pygments_lexer": "ipython3",
   "version": "3.6.8"
  }
 },
 "nbformat": 4,
 "nbformat_minor": 2
}
